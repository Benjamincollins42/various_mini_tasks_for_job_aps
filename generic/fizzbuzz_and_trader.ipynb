{
 "cells": [
  {
   "cell_type": "code",
   "execution_count": 1,
   "id": "interpreted-example",
   "metadata": {},
   "outputs": [],
   "source": [
    "def fizzbuzz(n):\n",
    "    \n",
    "    for number in range(1, n + 1):\n",
    "        if number % 3 == 0 and number % 5 == 0:\n",
    "            print(\"Fizzbuzz\")\n",
    "        elif number % 3 == 0:\n",
    "            print(\"Fizz\")\n",
    "        elif number % 5 == 0:\n",
    "            print(\"Buzz\")\n",
    "        else:\n",
    "            print(number)"
   ]
  },
  {
   "cell_type": "code",
   "execution_count": 2,
   "id": "public-pierce",
   "metadata": {},
   "outputs": [
    {
     "name": "stdout",
     "output_type": "stream",
     "text": [
      "1\n",
      "2\n",
      "Fizz\n",
      "4\n",
      "Buzz\n",
      "Fizz\n",
      "7\n",
      "8\n",
      "Fizz\n",
      "Buzz\n",
      "11\n",
      "Fizz\n",
      "13\n",
      "14\n",
      "Fizzbuzz\n",
      "16\n",
      "17\n",
      "Fizz\n",
      "19\n",
      "Buzz\n",
      "Fizz\n",
      "22\n",
      "23\n",
      "Fizz\n",
      "Buzz\n",
      "26\n",
      "Fizz\n",
      "28\n",
      "29\n",
      "Fizzbuzz\n",
      "31\n",
      "32\n",
      "Fizz\n",
      "34\n",
      "Buzz\n",
      "Fizz\n",
      "37\n",
      "38\n",
      "Fizz\n",
      "Buzz\n",
      "41\n",
      "Fizz\n",
      "43\n",
      "44\n",
      "Fizzbuzz\n",
      "46\n",
      "47\n",
      "Fizz\n",
      "49\n",
      "Buzz\n"
     ]
    }
   ],
   "source": [
    "fizzbuzz(50)"
   ]
  },
  {
   "cell_type": "code",
   "execution_count": 3,
   "id": "proper-consumer",
   "metadata": {},
   "outputs": [],
   "source": [
    "import numpy as np"
   ]
  },
  {
   "cell_type": "code",
   "execution_count": 22,
   "id": "suspended-spain",
   "metadata": {},
   "outputs": [],
   "source": [
    "def trade(S):\n",
    "    S = np.array(S)\n",
    "    optimalTrade = (0,0)\n",
    "    optimalTradeValue = 0\n",
    "    \n",
    "    for i, value in enumerate(S):\n",
    "        print(i)\n",
    "        diffrences = (S[i:] - S[i])\n",
    "        sellIndex = np.argmax(diffrences) + i\n",
    "        trade_value = np.max(diffrences)\n",
    "        \n",
    "        if trade_value > optimalTradeValue:\n",
    "            optimalTradeValue = trade_value\n",
    "            optimalTrade = (i,sellIndex)\n",
    "    return optimalTrade"
   ]
  },
  {
   "cell_type": "code",
   "execution_count": 23,
   "id": "willing-conference",
   "metadata": {},
   "outputs": [
    {
     "data": {
      "text/plain": [
       "array([ 4.1, -1.8,  0.3,  2.4,  1.5])"
      ]
     },
     "execution_count": 23,
     "metadata": {},
     "output_type": "execute_result"
    }
   ],
   "source": [
    "S = [4.1, 6.2, 2.3, 3.4, 7.5, 1.6, 3.7, 5.8, 4.9]\n",
    "S = np.array(S)\n",
    "(S[4:] - S[3])"
   ]
  },
  {
   "cell_type": "code",
   "execution_count": 24,
   "id": "israeli-cleaners",
   "metadata": {},
   "outputs": [
    {
     "name": "stdout",
     "output_type": "stream",
     "text": [
      "0\n",
      "1\n",
      "2\n",
      "3\n",
      "4\n",
      "5\n",
      "6\n",
      "7\n",
      "8\n"
     ]
    },
    {
     "data": {
      "text/plain": [
       "(2, 4)"
      ]
     },
     "execution_count": 24,
     "metadata": {},
     "output_type": "execute_result"
    }
   ],
   "source": [
    "trade(S)"
   ]
  },
  {
   "cell_type": "code",
   "execution_count": null,
   "id": "neither-cradle",
   "metadata": {},
   "outputs": [],
   "source": []
  }
 ],
 "metadata": {
  "kernelspec": {
   "display_name": "Python 3",
   "language": "python",
   "name": "python3"
  },
  "language_info": {
   "codemirror_mode": {
    "name": "ipython",
    "version": 3
   },
   "file_extension": ".py",
   "mimetype": "text/x-python",
   "name": "python",
   "nbconvert_exporter": "python",
   "pygments_lexer": "ipython3",
   "version": "3.8.3"
  }
 },
 "nbformat": 4,
 "nbformat_minor": 5
}
